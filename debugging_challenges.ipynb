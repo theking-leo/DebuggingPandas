{
  "nbformat": 4,
  "nbformat_minor": 0,
  "metadata": {
    "colab": {
      "provenance": []
    },
    "kernelspec": {
      "name": "python3",
      "display_name": "Python 3"
    },
    "language_info": {
      "name": "python"
    }
  },
  "cells": [
    {
      "cell_type": "markdown",
      "source": [
        "# Debugging Python code\n",
        "\n",
        "\n",
        "Go through the exercises below.\n",
        "\n",
        "- Each exercise contains some code with **one or more mistakes**.\n",
        "- The mistakes can either prompt an error or not.\n",
        "- There might be multiple ways to fix the mistakes.\n",
        "- Improving the code readability is also encouraged."
      ],
      "metadata": {
        "id": "eGqyDOiK4nv5"
      }
    },
    {
      "cell_type": "code",
      "source": [
        "# data creation\n",
        "beatles = [\"John Lennon\", \"Paul McCartney\", \"George Harrison\", \"Ringo Starr\"]\n",
        "\n",
        "numbers = [1, 2, 3, 4, 5]\n",
        "\n",
        "capitals = {\"Germany\": \"Berlin\",\n",
        "            \"Russia\": \"Moscow\",\n",
        "            \"France\": \"Paris\",\n",
        "            \"China\": \"Beijing\",\n",
        "            \"Egypt\": \"Cairo\",\n",
        "            \"Brazil\": \"Sao Paulo\"\n",
        "            }\n",
        "\n",
        "top_profitable_films = {\n",
        "    \"Film\": [\"Avengers: Endgame\", \"Avatar\", \"Titanic\", \"Star Wars: The Force Awakens\", \"Jurassic World\",\n",
        "             \"The Lion King\", \"The Avengers\", \"Frozen II\", \"Frozen\", \"Beauty and the Beast\"],\n",
        "    \"Year\": [\"2019\", \"2007\", \"1997\", \"2015\", \"2015\", \"2019\", \"2012\", \"2019\", \"2013\", \"2017\"],\n",
        "    \"Worldwide Gross (in billions)\": [\"2.798\", \"2.789\", \"2.194\", \"2.073\", \"1.673\", \"1.656\", \"1.519\",\n",
        "                                      \"1.450\", \"1.276\", \"1.263\"]\n",
        "    }"
      ],
      "metadata": {
        "id": "7teQ1W7aJKqR"
      },
      "execution_count": null,
      "outputs": []
    },
    {
      "cell_type": "markdown",
      "source": [
        "**Logical error**: the capital of Brazil is acually Brasilia, not Sao Paulo!"
      ],
      "metadata": {
        "id": "yr5D3PFwKMyG"
      }
    },
    {
      "cell_type": "code",
      "source": [
        "capitals[\"Brazil\"] = \"Brasilia\""
      ],
      "metadata": {
        "id": "dUdY7gAnKLOl"
      },
      "execution_count": null,
      "outputs": []
    },
    {
      "cell_type": "markdown",
      "source": [
        "## Exercise 1:"
      ],
      "metadata": {
        "id": "BaJkDo5mMZX2"
      }
    },
    {
      "cell_type": "code",
      "source": [
        "for c in Capitals.keys():\n",
        "  print(f\"{c} is the capital of {Capitals[c]}.\")"
      ],
      "metadata": {
        "id": "05L7VqDMKfx2"
      },
      "execution_count": null,
      "outputs": []
    },
    {
      "cell_type": "markdown",
      "source": [
        "**Solution:**\n",
        "1. The `NameError` with the message \"NameError: name 'Capitals' is not defined\" occurs because variable `capitals` that we actually defined is not capitalized. `Capitals` does not exist."
      ],
      "metadata": {
        "id": "kUcjazFnLrre"
      }
    },
    {
      "cell_type": "code",
      "source": [
        "for c in capitals.keys():\n",
        "  print(f\"{c} is the capital of {capitals[c]}.\")"
      ],
      "metadata": {
        "id": "le0oJfkbLEPW"
      },
      "execution_count": null,
      "outputs": []
    },
    {
      "cell_type": "markdown",
      "source": [
        "2. We have to switch the country and the capital for the sentences to make sense."
      ],
      "metadata": {
        "id": "Nhz-TI8Wkmjq"
      }
    },
    {
      "cell_type": "code",
      "source": [
        "for c in capitals.keys():\n",
        "  print(f\"{capitals[c]} is the capital of {c}.\")"
      ],
      "metadata": {
        "id": "NJCv-o30kkw9"
      },
      "execution_count": null,
      "outputs": []
    },
    {
      "cell_type": "markdown",
      "source": [
        "3. Optionally, we can give a more meaningful name to the iterator variable so that the code is easier to understand."
      ],
      "metadata": {
        "id": "IVmIgb_Dkt86"
      }
    },
    {
      "cell_type": "code",
      "source": [
        "for country in capitals.keys():\n",
        "  print(f\"{capitals[country]} is the capital of {country}.\")"
      ],
      "metadata": {
        "id": "FwBW2_7Mkz0Y"
      },
      "execution_count": null,
      "outputs": []
    },
    {
      "cell_type": "markdown",
      "source": [
        "## Exercise 2:\n",
        "Let's imagine we want to show our love for Ringo Starr and print a love statement for him as many times as numbers are in the `numbers` list. For all Beatles who are not Ringo, we want to print as many times a hate statement. The output should look like this:\n",
        "\n",
        "```\n",
        "I hate John Lennon!\n",
        "I hate Paul McCartney!\n",
        "I hate George Harrison!\n",
        "I love Ringo Starr!\n",
        "\n",
        "\n",
        "I hate John Lennon!\n",
        "I hate Paul McCartney!\n",
        "I hate George Harrison!\n",
        "I love Ringo Starr!\n",
        "\n",
        "\n",
        "I hate John Lennon!\n",
        "I hate Paul McCartney!\n",
        "I hate George Harrison!\n",
        "I love Ringo Starr!\n",
        "\n",
        "\n",
        "I hate John Lennon!\n",
        "I hate Paul McCartney!\n",
        "I hate George Harrison!\n",
        "I love Ringo Starr!\n",
        "\n",
        "\n",
        "I hate John Lennon!\n",
        "I hate Paul McCartney!\n",
        "I hate George Harrison!\n",
        "I love Ringo Starr!\n",
        "```\n",
        "\n"
      ],
      "metadata": {
        "id": "Ktqf8UlUT7Wo"
      }
    },
    {
      "cell_type": "code",
      "source": [
        "for beatle in beatles:\n",
        "  if beatle = \"Ringo Starr\":\n",
        "    for n in numbers:\n",
        "      print(f\"I love {beatle}!\")\n",
        "  if beatle != \"Ringo Starr\":\n",
        "    print(f\"I hate {beatle}!\")\n",
        "      print(\"\\n\")"
      ],
      "metadata": {
        "id": "cb212PumTUM-"
      },
      "execution_count": null,
      "outputs": []
    },
    {
      "cell_type": "markdown",
      "source": [
        "**Solution:**\n",
        "\n",
        "1. A single `=` sign is the assignment operator. For the logical operator \"equals to\" we need to use the double equal sign `==`:"
      ],
      "metadata": {
        "id": "-ksZZmgjUHXE"
      }
    },
    {
      "cell_type": "code",
      "source": [
        "for beatle in beatles:\n",
        "  if beatle == \"Ringo Starr\":\n",
        "    for n in numbers:\n",
        "      print(f\"I love {beatle}!\")\n",
        "  if beatle != \"Ringo Starr\":\n",
        "    print(f\"I hate {beatle}!\")\n",
        "      print(\"\\n\")"
      ],
      "metadata": {
        "id": "xONYJxSxVDJx"
      },
      "execution_count": null,
      "outputs": []
    },
    {
      "cell_type": "markdown",
      "source": [
        "2. The `print(\"\\n\")` statement needs to be properly indented."
      ],
      "metadata": {
        "id": "L84VGx6blhYC"
      }
    },
    {
      "cell_type": "code",
      "source": [
        "for beatle in beatles:\n",
        "  if beatle == \"Ringo Starr\":\n",
        "    for n in numbers:\n",
        "      print(f\"I love {beatle}!\")\n",
        "  if beatle != \"Ringo Starr\":\n",
        "    for n in numbers:\n",
        "      print(f\"I hate {beatle}!\")\n",
        "  print(\"\\n\")"
      ],
      "metadata": {
        "id": "ej6YVJz-lhtW"
      },
      "execution_count": null,
      "outputs": []
    },
    {
      "cell_type": "markdown",
      "source": [
        "3. We want to iterate through `numbers` first, and then through `beatles`."
      ],
      "metadata": {
        "id": "tqsYMxcsliQs"
      }
    },
    {
      "cell_type": "code",
      "source": [
        "for n in numbers:\n",
        "  for beatle in beatles:\n",
        "    if beatle == \"Ringo Starr\":\n",
        "        print(f\"I love {beatle}!\")\n",
        "    if beatle != \"Ringo Starr\":\n",
        "      print(f\"I hate {beatle}!\")\n",
        "  print(\"\\n\")"
      ],
      "metadata": {
        "id": "bk3M_iVHlcTD"
      },
      "execution_count": null,
      "outputs": []
    },
    {
      "cell_type": "markdown",
      "source": [
        "4. Optionally, we can replace `if beatle != \"Ringo Starr\":` with `else`. It will make our code simpler and more elegant:"
      ],
      "metadata": {
        "id": "E630g2vxmXSp"
      }
    },
    {
      "cell_type": "code",
      "source": [
        "for n in numbers:\n",
        "  for beatle in beatles:\n",
        "    if beatle == \"Ringo Starr\":\n",
        "        print(f\"I love {beatle}!\")\n",
        "    else:\n",
        "      print(f\"I hate {beatle}!\")\n",
        "  print(\"\\n\")"
      ],
      "metadata": {
        "id": "F5GuSupgmkWR"
      },
      "execution_count": null,
      "outputs": []
    },
    {
      "cell_type": "markdown",
      "source": [
        "## Exercise 3:"
      ],
      "metadata": {
        "id": "cOKlhWRqMQF1"
      }
    },
    {
      "cell_type": "code",
      "source": [
        "top_profitable_films = pd.DataFrame(top_profitable_films)\n",
        "top_profitable_films.head"
      ],
      "metadata": {
        "id": "h6PF4HQfMiex"
      },
      "execution_count": null,
      "outputs": []
    },
    {
      "cell_type": "markdown",
      "source": [
        "1. We have not imported pandas yet, hence the NameError for `pd`.\n",
        "\n"
      ],
      "metadata": {
        "id": "yD99xAaJN5hM"
      }
    },
    {
      "cell_type": "code",
      "source": [
        "import pandas as pd\n",
        "top_profitable_films = pd.DataFrame(top_profitable_films)\n",
        "top_profitable_films.head"
      ],
      "metadata": {
        "id": "FFJsXqymNuFm"
      },
      "execution_count": null,
      "outputs": []
    },
    {
      "cell_type": "markdown",
      "source": [
        "2. It is not a good practice to overwrite the variable of the original dataset when creating a new version of it. We want to preserve the dictionary `top_profitable_films`."
      ],
      "metadata": {
        "id": "UHLgEP6cm-0W"
      }
    },
    {
      "cell_type": "code",
      "source": [
        "import pandas as pd\n",
        "top_films_df = pd.DataFrame(top_profitable_films)\n",
        "top_films_df.head"
      ],
      "metadata": {
        "id": "i-XuAJxPm-ic"
      },
      "execution_count": null,
      "outputs": []
    },
    {
      "cell_type": "markdown",
      "source": [
        "3. `head()` is a method, and therefore needs the parentheses.\n"
      ],
      "metadata": {
        "id": "_7qCS9YXm-Pp"
      }
    },
    {
      "cell_type": "code",
      "source": [
        "import pandas as pd\n",
        "top_films_df = pd.DataFrame(top_profitable_films)\n",
        "top_films_df.head()"
      ],
      "metadata": {
        "id": "Vti9kgJLm92-"
      },
      "execution_count": null,
      "outputs": []
    },
    {
      "cell_type": "markdown",
      "source": [
        "## Exercise 4:"
      ],
      "metadata": {
        "id": "nuQNxD6HOcMP"
      }
    },
    {
      "cell_type": "code",
      "source": [
        "top_films_df[top_films_df[\"Film\"]==\"Avatar\"][\"Year\"] = \"2009\""
      ],
      "metadata": {
        "id": "03M8YhGWRW5f"
      },
      "execution_count": null,
      "outputs": []
    },
    {
      "cell_type": "markdown",
      "source": [
        "**Solution:**\n",
        "\n",
        "In general, when selecting data from a DataFrame, and ALWAYS when overwriting data from it, use `.loc[]` instead of simple `[]`.\n",
        "\n",
        "When fixing the infamous `A value is trying to be set on a copy of a slice from a DataFrame.` error, it's better to have a fresh start, so create the dataframe again."
      ],
      "metadata": {
        "id": "rsJIH8tKRokz"
      }
    },
    {
      "cell_type": "code",
      "source": [
        "top_profitable_films = pd.DataFrame(top_profitable_films)\n",
        "\n",
        "top_films_df.loc[top_films_df[\"Film\"]==\"Avatar\", \"Year\"] = \"2009\""
      ],
      "metadata": {
        "id": "ohTamlJCSqMZ"
      },
      "execution_count": null,
      "outputs": []
    },
    {
      "cell_type": "code",
      "source": [
        "top_films_df.head(2)"
      ],
      "metadata": {
        "id": "4manuy-YS4V6"
      },
      "execution_count": null,
      "outputs": []
    },
    {
      "cell_type": "markdown",
      "source": [
        "## Exercise 5:\n",
        "\n",
        "We want to get the average gross profit of all films:"
      ],
      "metadata": {
        "id": "OwCeBaNYS_aM"
      }
    },
    {
      "cell_type": "code",
      "source": [
        "top_films_df[\"Worldwide Gross (in billions)\"].avg()"
      ],
      "metadata": {
        "id": "ChhryXzVZK4G"
      },
      "execution_count": null,
      "outputs": []
    },
    {
      "cell_type": "markdown",
      "source": [
        "**Solution:**\n",
        "\n",
        "1. The `AttributeError: 'Series' object has no attribute 'avg'` tells us that the method we have used does not exist for a Pandas column (which is a Series). A quick google shows us that the method we need is `mean()`:"
      ],
      "metadata": {
        "id": "GQVVAU3LZy78"
      }
    },
    {
      "cell_type": "code",
      "source": [
        "top_films_df[\"Worldwide Gross (in billions)\"].mean()"
      ],
      "metadata": {
        "id": "t6P7WEMDacu_"
      },
      "execution_count": null,
      "outputs": []
    },
    {
      "cell_type": "markdown",
      "source": [
        "2. The `TypeError` and the message `Could not convert 2.7982.7892.1942.0731.6731.6561.5191.4501.2761.263 to numeric` we understand that these numbers don't have a numeric data type, which does not allow Pandas to compute their mean. Let's change it:"
      ],
      "metadata": {
        "id": "elASVJtwafIY"
      }
    },
    {
      "cell_type": "code",
      "source": [
        "top_films_df.loc[:, \"Worldwide Gross (in billions)\"] = pd.to_numeric(top_films_df.loc[:, \"Worldwide Gross (in billions)\"])\n",
        "top_films_df[\"Worldwide Gross (in billions)\"].mean()"
      ],
      "metadata": {
        "id": "kfHUXgT_a4mO"
      },
      "execution_count": null,
      "outputs": []
    },
    {
      "cell_type": "code",
      "source": [],
      "metadata": {
        "id": "g5fnaEXabhy7"
      },
      "execution_count": null,
      "outputs": []
    }
  ]
}